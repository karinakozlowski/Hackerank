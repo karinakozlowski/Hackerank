{
 "cells": [
  {
   "cell_type": "markdown",
   "metadata": {},
   "source": [
    "## 1- Python Hello World"
   ]
  },
  {
   "cell_type": "markdown",
   "metadata": {},
   "source": [
    "https://www.hackerrank.com/challenges/py-hello-world/problem?isFullScreen=true"
   ]
  },
  {
   "cell_type": "markdown",
   "metadata": {},
   "source": [
    "## "
   ]
  },
  {
   "cell_type": "code",
   "execution_count": null,
   "metadata": {},
   "outputs": [
    {
     "name": "stdout",
     "output_type": "stream",
     "text": [
      "Hello, World!\n"
     ]
    }
   ],
   "source": []
  },
  {
   "cell_type": "markdown",
   "metadata": {},
   "source": [
    "-------"
   ]
  },
  {
   "cell_type": "markdown",
   "metadata": {},
   "source": [
    "## 2- Python if-else"
   ]
  },
  {
   "cell_type": "markdown",
   "metadata": {},
   "source": [
    "https://www.hackerrank.com/challenges/py-if-else/problem?isFullScreen=true"
   ]
  },
  {
   "cell_type": "markdown",
   "metadata": {},
   "source": [
    "\"Odd\" es un término en inglés que significa impar."
   ]
  },
  {
   "cell_type": "markdown",
   "metadata": {},
   "source": [
    "Explicación\n",
    "+ Si n es impar (n % 2 != 0), se imprime \"Weird\".\n",
    "+ Si n es par y está en el rango inclusivo de 2 a 5, se imprime \"Not Weird\".\n",
    "+ Si n es par y está en el rango inclusivo de 6 a 20, se imprime \"Weird\".\n",
    "+ Si n es par y mayor que 20, se imprime \"Not Weird\".\n",
    "\n",
    "**Ejemplos**\n",
    "\n",
    "+ Entrada: 3 ➔ Salida: \"Weird\"\n",
    "+ Entrada: 4 ➔ Salida: \"Not Weird\"\n",
    "+ Entrada: 18 ➔ Salida: \"Weird\"\n",
    "+ Entrada: 22 ➔ Salida: \"Not Weird\""
   ]
  },
  {
   "cell_type": "code",
   "execution_count": null,
   "metadata": {},
   "outputs": [
    {
     "name": "stdout",
     "output_type": "stream",
     "text": [
      "Weird\n"
     ]
    }
   ],
   "source": []
  },
  {
   "cell_type": "markdown",
   "metadata": {},
   "source": [
    "----------"
   ]
  },
  {
   "cell_type": "markdown",
   "metadata": {},
   "source": [
    "## 3- Python-arithmetic-operators"
   ]
  },
  {
   "cell_type": "markdown",
   "metadata": {},
   "source": [
    "https://www.hackerrank.com/challenges/python-arithmetic-operators/problem?isFullScreen=true"
   ]
  },
  {
   "cell_type": "markdown",
   "metadata": {},
   "source": [
    "Explicación del código\n",
    "\n",
    "Se leen dos números enteros desde la entrada estándar.\n",
    "+ Se imprime la suma de a y b.\n",
    "+ Se imprime la diferencia entre a y b.\n",
    "+ Se imprime el producto de a y b.\n",
    "\n",
    "Ejecución\n",
    "Cuando ejecutes este código e ingreses los valores 3 y 5, obtendrás la salida:"
   ]
  },
  {
   "cell_type": "markdown",
   "metadata": {},
   "source": [
    "+ 8\n",
    "+ -2\n",
    "+ 15\n"
   ]
  },
  {
   "cell_type": "code",
   "execution_count": null,
   "metadata": {},
   "outputs": [
    {
     "name": "stdout",
     "output_type": "stream",
     "text": [
      "8\n",
      "-2\n",
      "15\n"
     ]
    }
   ],
   "source": []
  },
  {
   "cell_type": "markdown",
   "metadata": {},
   "source": [
    "----------"
   ]
  },
  {
   "cell_type": "markdown",
   "metadata": {},
   "source": [
    "## 4- Python-division"
   ]
  },
  {
   "cell_type": "markdown",
   "metadata": {},
   "source": [
    "https://www.hackerrank.com/challenges/python-division/problem?isFullScreen=true"
   ]
  },
  {
   "cell_type": "markdown",
   "metadata": {},
   "source": [
    "\n",
    "Aquí tienes la solución en Python en español:\n",
    "\n",
    "python\n",
    "Copiar código\n",
    "if __name__ == '__main__':\n",
    "    a = int(input().strip())\n",
    "    b = int(input().strip())\n",
    "\n",
    "    # División entera\n",
    "    print(a // b)\n",
    "    # División flotante\n",
    "    print(a / b)\n",
    "Explicación\n",
    "\n",
    "División entera (a // b): Esto da el cociente de a dividido por b, descartando cualquier residuo.\n",
    "\n",
    "División flotante (a / b): Esto realiza una división regular y proporciona un resultado en formato decimal."
   ]
  },
  {
   "cell_type": "code",
   "execution_count": null,
   "metadata": {},
   "outputs": [],
   "source": []
  },
  {
   "cell_type": "markdown",
   "metadata": {},
   "source": [
    "-------"
   ]
  },
  {
   "cell_type": "markdown",
   "metadata": {},
   "source": [
    "## 5- Python-loops"
   ]
  },
  {
   "cell_type": "markdown",
   "metadata": {},
   "source": [
    "https://www.hackerrank.com/challenges/python-loops/problem?isFullScreen=true"
   ]
  },
  {
   "cell_type": "markdown",
   "metadata": {},
   "source": [
    "Se proporciona un código base que lee un número entero, \n",
    "𝑛\n",
    "n, desde la entrada estándar (STDIN). Para todos los enteros no negativos \n",
    "𝑖\n",
    "i menores que \n",
    "𝑛\n",
    "n, imprime \n",
    "𝑖\n",
    "2\n",
    "i \n",
    "2\n",
    "  (el cuadrado de \n",
    "𝑖\n",
    "i).\n",
    "\n",
    "Ejemplo\n",
    "Si el valor de \n",
    "𝑛\n",
    "n es 3, entonces los enteros no negativos menores que \n",
    "𝑛\n",
    "n son 0, 1 y 2. Por lo tanto, el programa debería imprimir el cuadrado de cada uno en líneas separadas:"
   ]
  },
  {
   "cell_type": "markdown",
   "metadata": {},
   "source": [
    "Explicación del Código\n",
    "\n",
    "\n",
    "+ Bucle for: Se utiliza un bucle for para iterar desde 0 hasta n-1. Esto se hace con range(n), que genera una secuencia de números enteros desde 0 hasta justo antes de n.\n",
    "\n",
    "+ Cálculo del Cuadrado: Dentro del bucle, se imprime el cuadrado de cada número i usando i ** 2. Aquí ** es el operador de potencia en Python, por lo que i ** 2 calcula el cuadrado de i.\n",
    "\n",
    "\n",
    "\n",
    "\n",
    "\n",
    "Ejemplo\n",
    "\n",
    "\n",
    "Entrada: n = 5\n",
    "\n",
    "Proceso:\n",
    "\n",
    "Para i = 0, el cuadrado es 0 ** 2 = 0\n",
    "\n",
    "Para i = 1, el cuadrado es 1 ** 2 = 1\n",
    "\n",
    "Para i = 2, el cuadrado es 2 ** 2 = 4\n",
    "\n",
    "Para i = 3, el cuadrado es 3 ** 2 = 9\n",
    "\n",
    "Para i = 4, el cuadrado es 4 ** 2 = 16"
   ]
  },
  {
   "cell_type": "code",
   "execution_count": null,
   "metadata": {},
   "outputs": [],
   "source": []
  },
  {
   "cell_type": "markdown",
   "metadata": {},
   "source": [
    "----"
   ]
  },
  {
   "cell_type": "markdown",
   "metadata": {},
   "source": [
    "## 6- Python- Write a function"
   ]
  },
  {
   "cell_type": "markdown",
   "metadata": {},
   "source": [
    "https://www.hackerrank.com/challenges/write-a-function/problem?isFullScreen=true"
   ]
  },
  {
   "cell_type": "markdown",
   "metadata": {},
   "source": [
    "Explicación:\n",
    "\n",
    "\n",
    "Utilicé la estructura provista y simplemente añadí la lógica necesaria para determinar si el año es bisiesto.\n",
    "\n",
    "La variable leap comienza como False y cambia a True solo si el año cumple las condiciones de un año bisiesto."
   ]
  },
  {
   "cell_type": "code",
   "execution_count": null,
   "metadata": {},
   "outputs": [
    {
     "name": "stdout",
     "output_type": "stream",
     "text": [
      "True\n"
     ]
    }
   ],
   "source": []
  },
  {
   "cell_type": "markdown",
   "metadata": {},
   "source": [
    "Un año bisiesto tiene 366 días.\n",
    "\n",
    "Esto se debe a que en un año bisiesto se añade un día adicional, el 29 de febrero, al calendario normal de 365 días. El día extra se añade para mantener la alineación del calendario con el año solar (el tiempo que tarda la Tierra en dar una vuelta alrededor del sol).\n",
    "\n",
    "En resumen:\n",
    "\n",
    "Un año regular tiene 365 días.\n",
    "Un año bisiesto tiene 366 días."
   ]
  },
  {
   "cell_type": "markdown",
   "metadata": {},
   "source": [
    "El Problema de la Duración del Año\n",
    "La Tierra tarda aproximadamente 365.2422 días en dar una vuelta completa al sol, es decir, un año solar. Para mantener el calendario alineado con el ciclo solar, se debe ajustar la diferencia entre los 365 días de un año calendario y los 365.2422 días que realmente toma el año solar.\n",
    "\n",
    "\n",
    "Solución Inicial: Añadir un Día Cada 4 Años\n",
    "Inicialmente, se pensó en añadir un día extra cada 4 años para compensar esa diferencia de aproximadamente 0.25 días por año. Por lo tanto:\n",
    "\n",
    "\n",
    "Cada 4 años se suman 0.25 x 4 = 1 día, lo cual nos lleva a un año bisiesto con 366 días.\n",
    "Con esta regla, cualquier año divisible entre 4 se convierte en año bisiesto.\n",
    "\n",
    "\n",
    "El Problema con Cada 4 Años\n",
    "Sin embargo, la duración exacta del año solar es 365.2422 días, no 365.25 días. Esto significa que hay un pequeño error al considerar un año bisiesto cada 4 años. En realidad, estamos añadiendo un poco más de tiempo de lo necesario, y este pequeño error se acumula con el paso de los siglos.\n",
    "\n",
    "\n",
    "Con el paso del tiempo, el calendario empezaría a adelantarse con respecto al ciclo solar. Después de unos 400 años, ese pequeño exceso se acumula en aproximadamente 3 días adicionales.\n",
    "\n",
    "\n",
    "Ajuste con el Año Divisible entre 100\n",
    "Para solucionar este desajuste, se introdujo una regla adicional: si un año es divisible entre 100, no es bisiesto, incluso si es divisible entre 4. Esto ayuda a eliminar algunos de esos días de exceso.\n",
    "\n",
    "\n",
    "Por ejemplo:\n",
    "\n",
    "1700, 1800, y 1900 no son bisiestos, aunque son divisibles entre 4, ya que también son divisibles entre 100.\n",
    "Ajuste Final con el Año Divisible entre 400\n",
    "Sin embargo, esta regla de omitir los años divisibles entre 100 hace que eliminemos demasiados días, creando otro desajuste. Para corregir nuevamente, se decidió que si un año es divisible entre 400, sí será bisiesto.\n",
    "\n",
    "Por ejemplo:\n",
    "\n",
    "1600, 2000, y 2400 son años bisiestos, ya que son divisibles entre 400.\n",
    "Resumen\n",
    "En el calendario gregoriano, las reglas para identificar un año bisiesto son:\n",
    "\n",
    "Un año es bisiesto si es divisible por 4, excepto si es divisible por 100, en cuyo caso no es bisiesto, a menos que:\n",
    "El año sea divisible por 400, en cuyo caso sí es bisiesto.\n",
    "Esto significa que el calendario gregoriano tiene una precisión mucho mayor al corregir el exceso de tiempo acumulado cada 400 años, y se asegura de mantenerse alineado con las estaciones del año y el ciclo solar de forma más precisa."
   ]
  },
  {
   "cell_type": "markdown",
   "metadata": {},
   "source": [
    "----"
   ]
  },
  {
   "cell_type": "markdown",
   "metadata": {},
   "source": [
    "\n",
    "El error de ASCII significa que tu código contiene caracteres especiales que no pertenecen al conjunto estándar de caracteres ASCII, que solo incluye caracteres básicos en inglés (letras, números, signos de puntuación comunes y algunos caracteres de control).\n",
    "\n",
    "ASCII (American Standard Code for Information Interchange) es un estándar de codificación de caracteres que contiene 128 caracteres. Entre ellos están:\n",
    "\n",
    "\n",
    "\n",
    "\n",
    "Letras: A-Z (mayúsculas) y a-z (minúsculas)\n",
    "\n",
    "Dígitos: 0-9\n",
    "\n",
    "\n",
    "Signos de puntuación: .,;:\"'!?\n",
    "\n",
    "Algunos caracteres especiales: @, #, &, *, etc.\n",
    "\n",
    "Cualquier carácter que esté fuera de estos 128 no es ASCII, como son las letras acentuadas (á, é, í, ó, ú), la ñ, o caracteres especiales usados en otros idiomas.\n",
    "\n",
    "\n",
    "En el caso del error que mencionaste, tu código original contenía caracteres no ASCII (como letras acentuadas en comentarios), lo cual causó el rechazo de la solución. Esto sucede porque ciertas plataformas como HackerRank requieren que todos los caracteres sean ASCII para evitar problemas de compatibilidad o interpretación del código, especialmente cuando se manejan en sistemas que no soportan bien caracteres no ASCII."
   ]
  },
  {
   "cell_type": "markdown",
   "metadata": {},
   "source": [
    "Para solucionar el error:\n",
    "\n",
    "\n",
    "Asegúrate de usar solo caracteres en inglés.\n",
    "\n",
    "Evita caracteres acentuados y cualquier símbolo no estándar en comentarios o cadenas de texto."
   ]
  },
  {
   "cell_type": "markdown",
   "metadata": {},
   "source": [
    "---"
   ]
  },
  {
   "cell_type": "markdown",
   "metadata": {},
   "source": [
    "## 7 - Python - Print a Function"
   ]
  },
  {
   "cell_type": "markdown",
   "metadata": {},
   "source": [
    "https://www.hackerrank.com/challenges/python-print/problem?isFullScreen=true"
   ]
  },
  {
   "cell_type": "markdown",
   "metadata": {},
   "source": [
    "**Explicación:**\n",
    "\n",
    "El código empieza con if __name__ == '__main__': para asegurar que solo se ejecuta cuando el script es ejecutado directamente.\n",
    "\n",
    "Luego, lee el entero n desde la entrada.\n",
    "\n",
    "Utiliza un bucle for para imprimir cada número de 1 a \n",
    "\n",
    "𝑛\n",
    "n en la misma línea, sin espacios. Esto se logra usando end=\"\" en print().\n",
    "\n",
    "**Ejemplo de uso**\n",
    "**Entrada:** 5\n",
    "**Salida:** 12345\n",
    "\n",
    "Este código imprime los números consecutivos de 1 hasta \n",
    "𝑛\n",
    "n como una cadena continua sin espacios."
   ]
  },
  {
   "cell_type": "code",
   "execution_count": null,
   "metadata": {},
   "outputs": [],
   "source": []
  },
  {
   "cell_type": "code",
   "execution_count": null,
   "metadata": {},
   "outputs": [],
   "source": []
  },
  {
   "cell_type": "markdown",
   "metadata": {},
   "source": [
    "git init\n",
    "\n",
    "git remote add origin https://github.com/usuario/nombre-repo.git\n",
    "\n",
    "\n",
    "git add Hackerranck_Introduccion.ipynb\n",
    "\n",
    "ls\n",
    "\n",
    "cd \"C:\\Users\\z004yp4b\\OneDrive - Siemens AG\\Escritorio\\Visual Studio Code   Escritorio\"\n",
    "git init\n",
    "\n",
    "\n",
    "\n"
   ]
  }
 ],
 "metadata": {
  "kernelspec": {
   "display_name": "Python 3",
   "language": "python",
   "name": "python3"
  },
  "language_info": {
   "codemirror_mode": {
    "name": "ipython",
    "version": 3
   },
   "file_extension": ".py",
   "mimetype": "text/x-python",
   "name": "python",
   "nbconvert_exporter": "python",
   "pygments_lexer": "ipython3",
   "version": "3.12.3"
  }
 },
 "nbformat": 4,
 "nbformat_minor": 2
}
